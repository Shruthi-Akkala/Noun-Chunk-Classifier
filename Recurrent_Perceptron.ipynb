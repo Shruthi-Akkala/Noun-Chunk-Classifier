{
 "cells": [
  {
   "cell_type": "code",
   "execution_count": null,
   "metadata": {},
   "outputs": [],
   "source": [
    "!pip install scikit-learn numpy"
   ]
  },
  {
   "cell_type": "code",
   "execution_count": 15,
   "metadata": {
    "id": "H0F5T5-jhswJ"
   },
   "outputs": [],
   "source": [
    "import json\n",
    "import numpy as np\n",
    "from sklearn.model_selection import KFold\n",
    "from sklearn.metrics import accuracy_score, precision_score, recall_score, f1_score"
   ]
  },
  {
   "cell_type": "code",
   "execution_count": 16,
   "metadata": {
    "id": "OkOSi6RjCJCT"
   },
   "outputs": [],
   "source": [
    "def data_reading(filepath):\n",
    "  max_len = 0\n",
    "  data_chunk, data_postags = [],[]\n",
    "  with open(filepath, 'r') as file:\n",
    "      for item in file:\n",
    "          sent = json.loads(item)\n",
    "          max_len = max(len(sent['tokens']),max_len)\n",
    "          data_chunk.append(sent['chunk_tags'])\n",
    "          data_postags.append(sent['pos_tags'])\n",
    "  return data_chunk,  data_postags, max_len"
   ]
  },
  {
   "cell_type": "code",
   "execution_count": 17,
   "metadata": {
    "id": "dUW4VFnnCzXM"
   },
   "outputs": [],
   "source": [
    "def data_processing(data_chunk,  data_postags, m_sen_len):\n",
    "  data_postags_final = []\n",
    "  data_postags_final_pad = []\n",
    "  data_postags_pad = []\n",
    "  data_chunk_pad = []\n",
    "  for i in range(len(data_postags)):\n",
    "      sentence = []\n",
    "      sentence_pad = []\n",
    "      prev_word_oh = [1,0,0,0,0]\n",
    "      data_postags_pad.append(data_postags[i]+ [4]*(m_sen_len - len(data_postags[i])))\n",
    "      data_chunk_pad.append(data_chunk[i] + [1]*(m_sen_len - len(data_chunk[i])))\n",
    "      for j in range(len(data_postags_pad[i])):\n",
    "          word_oh = [0]*5\n",
    "          word_oh[data_postags_pad[i][j]] = 1\n",
    "          sentence.append(prev_word_oh + word_oh[1:])\n",
    "          prev_word_oh = word_oh\n",
    "\n",
    "\n",
    "      for j in range(len(data_postags[i])):\n",
    "          word_oh = [0]*5\n",
    "          word_oh[data_postags[i][j]] = 1\n",
    "          sentence_pad.append(prev_word_oh + word_oh[1:])\n",
    "          prev_word_oh = word_oh\n",
    "\n",
    "      data_postags_final_pad.append(sentence)\n",
    "      data_postags_final.append(sentence_pad)\n",
    "\n",
    "\n",
    "  data_postags_final_pad = np.array(data_postags_final_pad)\n",
    "  data_chunk_pad = np.array(data_chunk_pad)\n",
    "\n",
    "  return data_postags_final, data_postags_final_pad, data_chunk_pad"
   ]
  },
  {
   "cell_type": "code",
   "execution_count": 18,
   "metadata": {
    "id": "qTRVNf186luR"
   },
   "outputs": [],
   "source": [
    "def paramterinit():\n",
    "  np.random.seed(1)\n",
    "  W = np.random.uniform(-1,1,(1,9))\n",
    "  bias = np.random.uniform(-1,1,(1,1))\n",
    "  W_feedb = np.random.uniform(-1,1,(1,1))\n",
    "  return W, bias, W_feedb"
   ]
  },
  {
   "cell_type": "code",
   "execution_count": 19,
   "metadata": {
    "id": "mki3hsdG_R0n"
   },
   "outputs": [],
   "source": [
    "def sigmoid(z):\n",
    "    return 1/(1+np.exp(-z))"
   ]
  },
  {
   "cell_type": "code",
   "execution_count": 20,
   "metadata": {
    "id": "3KGVnj4bBQZj"
   },
   "outputs": [],
   "source": [
    "def sigmoid_derivative(z):\n",
    "    return sigmoid(z)*(1 - sigmoid(z))"
   ]
  },
  {
   "cell_type": "code",
   "execution_count": 21,
   "metadata": {
    "id": "tArzovvo7_08"
   },
   "outputs": [],
   "source": [
    "def forward(W, bias, W_feedb, X, max_sen_len):\n",
    "\n",
    "   yhat = np.zeros((len(X), max_sen_len))\n",
    "   sent_dim = len(X[0,:,0])\n",
    "\n",
    "   for i in range(sent_dim):\n",
    "      if i == 0:\n",
    "         yhat_prev = np.zeros((len(X),1))\n",
    "         yhat = (sigmoid(np.dot(W,X[:,i,:].T) + np.dot(W_feedb,yhat_prev.T) + bias)).T\n",
    "      else:\n",
    "         yhat_prev = sigmoid( np.dot( W , X[:,i,:].T ) + np.dot(W_feedb,yhat_prev.T) + bias).T\n",
    "         yhat = np.concatenate((yhat,yhat_prev), axis =1)\n",
    "\n",
    "   return yhat"
   ]
  },
  {
   "cell_type": "code",
   "execution_count": 22,
   "metadata": {
    "id": "GKEuvqoexEcf"
   },
   "outputs": [],
   "source": [
    "def parameterupdate(W, W_feedb, bias, dW, dW_feedb, dbias, N, lr):\n",
    "\n",
    "  W -= lr*dW/N\n",
    "  W_feedb -= lr*dW_feedb/N\n",
    "  bias -= lr*dbias/N\n",
    "\n",
    "  return W, W_feedb, bias"
   ]
  },
  {
   "cell_type": "code",
   "execution_count": 23,
   "metadata": {
    "id": "0isfqbB87cGD"
   },
   "outputs": [],
   "source": [
    "def BPTT(W, bias, W_feedb, X, y, lr, max_sen_len):\n",
    "\n",
    "  N = len(X)\n",
    "  dW = np.zeros_like(W)\n",
    "  dW_feedb = np.zeros_like(W_feedb)\n",
    "  dbias = np.zeros_like(bias)\n",
    "\n",
    "  yhat = forward(W, bias, W_feedb,X,max_sen_len)\n",
    "\n",
    "  yhat_prev = np.zeros_like(yhat)\n",
    "  yhat_prev[:,1:] = yhat[:,:-1]\n",
    "  y = np.array(y)\n",
    "\n",
    "  for i in range(max_sen_len):\n",
    "      if i == 0:\n",
    "          delta_W = X[:,i,:]\n",
    "          delta_W_feedb = np.zeros((N,1))\n",
    "          delta_bias = np.ones((N,1))\n",
    "      else:\n",
    "          prev = yhat_prev[:,i].reshape((len(X),1))\n",
    "          delta_W = X[:,i,:] + np.dot(W_feedb, sigmoid_derivative(prev).T).T * delta_W\n",
    "          delta_bias = np.ones((len(X),1)) + W_feedb* sigmoid_derivative(prev)*delta_bias\n",
    "          delta_W_feedb = prev + W_feedb* sigmoid_derivative(prev) * delta_W_feedb\n",
    "\n",
    "\n",
    "      dl = -(y[:,i] - yhat[:,i])\n",
    "      dW += np.dot(delta_W.T, dl)\n",
    "      dW_feedb += np.dot(delta_W_feedb.T,dl)\n",
    "      dbias += np.dot(delta_bias.T, dl)\n",
    "\n",
    "  W, W_feedb, bias = parameterupdate(W, W_feedb, bias, dW, dW_feedb, dbias, N, lr)\n",
    "  return W, W_feedb, bias"
   ]
  },
  {
   "cell_type": "code",
   "execution_count": 24,
   "metadata": {
    "id": "pxa9Vnikdo_j"
   },
   "outputs": [],
   "source": [
    "def predict(W, bias, W_feedb, sent_data, max_sen_len):\n",
    "    pred = []\n",
    "    for i in range(len(sent_data)):\n",
    "        input_sent = np.array([sent_data[i]])\n",
    "        y_pred = forward(W, W_feedb, bias, input_sent, max_sen_len )\n",
    "        y_pred = np.where(y_pred <= 0.5, 0, 1).tolist()[0]\n",
    "        pred.append(y_pred)\n",
    "    return pred\n"
   ]
  },
  {
   "cell_type": "code",
   "execution_count": 25,
   "metadata": {
    "id": "HQIP3DfZ_Pbg"
   },
   "outputs": [],
   "source": [
    "def compute_metric(output, predicted):\n",
    "  accuracy = accuracy_score(output, predicted)*100\n",
    "  precision = precision_score(output, predicted)\n",
    "  recall = recall_score(output, predicted)\n",
    "  f1 = f1_score(output, predicted)\n",
    "  return accuracy, precision, recall, f1\n"
   ]
  },
  {
   "cell_type": "code",
   "execution_count": 26,
   "metadata": {
    "id": "rVbdaHuD-kFE"
   },
   "outputs": [],
   "source": [
    "def testing(chunks_test, postags_test, max_sen_len, param):\n",
    "\n",
    "  test_postags_final, test_postags_final_pad, test_chunk_pad = data_processing(chunks_test, postags_test, max_sen_len)\n",
    "  W_final = param[str(1)][0]\n",
    "  W_feedb_final = param[str(1)][1]\n",
    "  bias_final = param[str(1)][2]\n",
    "  test_prediction = predict(W_final, W_feedb_final, bias_final, test_postags_final, max_sen_len)\n",
    "\n",
    "  test_prediction = np.array([one_token for one_sent in test_prediction for one_token in one_sent])\n",
    "  y_test_observed = np.array([one_token for one_sent in chunks_test for one_token in one_sent])\n",
    "  accuracy, precision, recall, f1 = compute_metric(y_test_observed, test_prediction)\n",
    "  print(\"Test set metric: \\n\")\n",
    "  print(f'Accuracy: {accuracy:.4f}, Precision: {precision:.4f}, Recall: {recall:.4f}, F1 Score: {f1:.4f}\\n')\n"
   ]
  },
  {
   "cell_type": "code",
   "execution_count": 27,
   "metadata": {
    "id": "M1Q09rAt6ZuW"
   },
   "outputs": [],
   "source": [
    "def model(train_path,test_path, lr, epoch, batch_size, num_splits):\n",
    "\n",
    "  chunks_train, postags_train, max_len_train = data_reading(train_path)\n",
    "  chunks_test, postags_test, max_len_test = data_reading(test_path)\n",
    "\n",
    "  max_sen_len = max(max_len_train,max_len_test)\n",
    "\n",
    "  train_postags_final, train_postags_final_pad, train_chunk_pad = data_processing(chunks_train, postags_train, max_sen_len)\n",
    "\n",
    "\n",
    "  kf = KFold(n_splits=num_splits, shuffle=True, random_state=42)\n",
    "\n",
    "  param = {}\n",
    "\n",
    "  for fold, (train_indices, test_indices) in enumerate(kf.split(train_postags_final, train_chunk_pad)):\n",
    "\n",
    "      print(f\"\\nFold: {fold + 1}/{num_splits}\")\n",
    "\n",
    "      X_train, X_test = train_postags_final_pad[train_indices], train_postags_final_pad[test_indices]\n",
    "      y_train, y_test = train_chunk_pad[train_indices], train_chunk_pad[test_indices]\n",
    "      X_train_act, train_groundtruth = [], []\n",
    "      X_test_act, val_groundtruth = [], []\n",
    "\n",
    "      for ti,tj in zip(train_indices,test_indices):\n",
    "          X_train_act.append(train_postags_final[ti])\n",
    "          X_test_act.append(train_postags_final[tj])\n",
    "          train_groundtruth.append(chunks_train[ti])\n",
    "          val_groundtruth.append(chunks_train[tj])\n",
    "\n",
    "      num_batches = len(X_train//batch_size)\n",
    "\n",
    "\n",
    "      W, bias, W_feedb = paramterinit()\n",
    "      for i in range(epoch):\n",
    "\n",
    "        for batch_num in range(num_batches):\n",
    "\n",
    "            start_index = batch_num * batch_size\n",
    "            end_index = (batch_num + 1) * batch_size\n",
    "            batch_data_X = X_train[start_index:end_index]\n",
    "            batch_data_y = y_train[start_index:end_index]\n",
    "            if len(batch_data_X) == 0:\n",
    "                break\n",
    "            W, W_feedb, bias = BPTT(W, bias, W_feedb, batch_data_X, batch_data_y, lr, max_sen_len)\n",
    "\n",
    "            #storing all parameter\n",
    "            param[str(fold+1)] = [W, W_feedb, bias]\n",
    "\n",
    "        if i % 10 == 0:\n",
    "\n",
    "              #Train set metric calculation\n",
    "              train_prediction = predict(W, W_feedb, bias, X_train_act, max_sen_len)\n",
    "\n",
    "              train_prediction = np.array([one_token for one_sent in train_prediction for one_token in one_sent])\n",
    "              y_train_observed = np.array([one_token for one_sent in train_groundtruth for one_token in one_sent])\n",
    "              accuracy, precision, recall, f1 = compute_metric(y_train_observed, train_prediction)\n",
    "              print(\"Training metric: \\n\")\n",
    "              print(f'Accuracy: {accuracy:.4f}, Precision: {precision:.4f}, Recall: {recall:.4f}, F1 Score: {f1:.4f}\\n')\n",
    "\n",
    "              #Validation set calculation\n",
    "              val_prediction = predict(W, W_feedb, bias,X_test_act, max_sen_len)\n",
    "\n",
    "              val_prediction = np.array([one_token for one_sent in val_prediction for one_token in one_sent])\n",
    "              y_test_observed = np.array([one_token for one_sent in val_groundtruth for one_token in one_sent])\n",
    "              accuracy, precision, recall, f1 = compute_metric(y_test_observed, val_prediction)\n",
    "              print(\"Validation metric: \\n\")\n",
    "              print(f'Accuracy: {accuracy:.4f}, Precision: {precision:.4f}, Recall: {recall:.4f}, F1 Score: {f1:.4f}\\n')\n",
    "              print(\"***********************************************\")\n",
    "\n",
    "  testing(chunks_test, postags_test, max_sen_len, param)\n",
    "  return param\n"
   ]
  },
  {
   "cell_type": "code",
   "execution_count": 28,
   "metadata": {
    "colab": {
     "base_uri": "https://localhost:8080/"
    },
    "id": "fEjaRjPeEWuJ",
    "outputId": "b7c31b91-9e5c-4ef8-b0f0-20c510adf7a4"
   },
   "outputs": [
    {
     "name": "stdout",
     "output_type": "stream",
     "text": [
      "\n",
      "Fold: 1/5\n",
      "Training metric: \n",
      "\n",
      "Accuracy: 83.3161, Precision: 0.8074, Recall: 0.9971, F1 Score: 0.8923\n",
      "\n",
      "Validation metric: \n",
      "\n",
      "Accuracy: 81.8306, Precision: 0.7888, Recall: 0.9977, F1 Score: 0.8811\n",
      "\n",
      "***********************************************\n",
      "\n",
      "Fold: 2/5\n",
      "Training metric: \n",
      "\n",
      "Accuracy: 83.7274, Precision: 0.8116, Recall: 0.9976, F1 Score: 0.8951\n",
      "\n",
      "Validation metric: \n",
      "\n",
      "Accuracy: 81.3492, Precision: 0.7840, Recall: 0.9971, F1 Score: 0.8778\n",
      "\n",
      "***********************************************\n",
      "\n",
      "Fold: 3/5\n",
      "Training metric: \n",
      "\n",
      "Accuracy: 83.5965, Precision: 0.8098, Recall: 0.9975, F1 Score: 0.8939\n",
      "\n",
      "Validation metric: \n",
      "\n",
      "Accuracy: 81.3315, Precision: 0.7851, Recall: 0.9968, F1 Score: 0.8784\n",
      "\n",
      "***********************************************\n",
      "\n",
      "Fold: 4/5\n",
      "Training metric: \n",
      "\n",
      "Accuracy: 83.5898, Precision: 0.8100, Recall: 0.9975, F1 Score: 0.8940\n",
      "\n",
      "Validation metric: \n",
      "\n",
      "Accuracy: 81.1484, Precision: 0.7827, Recall: 0.9967, F1 Score: 0.8768\n",
      "\n",
      "***********************************************\n",
      "\n",
      "Fold: 5/5\n",
      "Training metric: \n",
      "\n",
      "Accuracy: 83.6053, Precision: 0.8108, Recall: 0.9973, F1 Score: 0.8944\n",
      "\n",
      "Validation metric: \n",
      "\n",
      "Accuracy: 81.2621, Precision: 0.7823, Recall: 0.9967, F1 Score: 0.8766\n",
      "\n",
      "***********************************************\n",
      "Test set metric: \n",
      "\n",
      "Accuracy: 84.1240, Precision: 0.8097, Recall: 0.9888, F1 Score: 0.8903\n",
      "\n"
     ]
    }
   ],
   "source": [
    "param = model(\"train.jsonl\",\"test.jsonl\", 0.001, 5, batch_size=25,num_splits = 5 )"
   ]
  },
  {
   "cell_type": "code",
   "execution_count": 29,
   "metadata": {
    "colab": {
     "base_uri": "https://localhost:8080/"
    },
    "id": "u0H0pjBg7R2G",
    "outputId": "bde11ee7-4b8c-42b2-b414-013cf44766aa"
   },
   "outputs": [
    {
     "data": {
      "text/plain": [
       "{'1': [array([[ 0.64471707, -0.83021671, -1.56965126, -0.9094121 ,  1.67792237,\n",
       "          -1.92840973, -0.40959369, -0.79055402,  2.01067215]]),\n",
       "  array([[0.31102746]]),\n",
       "  array([[0.91789416]])],\n",
       " '2': [array([[ 0.64256646, -0.82086346, -1.57656429, -0.9121565 ,  1.68059044,\n",
       "          -1.92611296, -0.40344594, -0.80099216,  2.01287906]]),\n",
       "  array([[0.3122486]]),\n",
       "  array([[0.91810745]])],\n",
       " '3': [array([[ 0.64455461, -0.82061118, -1.58041056, -0.91404192,  1.68297348,\n",
       "          -1.92969613, -0.40329982, -0.80254685,  2.01676258]]),\n",
       "  array([[0.31434993]]),\n",
       "  array([[0.91699923]])],\n",
       " '4': [array([[ 0.6429678 , -0.82679645, -1.57488024, -0.90904204,  1.67871484,\n",
       "          -1.93362447, -0.40328621, -0.80110701,  2.01773694]]),\n",
       "  array([[0.31354616]]),\n",
       "  array([[0.9154987]])],\n",
       " '5': [array([[ 0.64263403, -0.8185414 , -1.57328427, -0.9097815 ,  1.6762571 ,\n",
       "          -1.92425472, -0.40621619, -0.80378743,  2.02029765]]),\n",
       "  array([[0.31111112]]),\n",
       "  array([[0.92181876]])]}"
      ]
     },
     "execution_count": 29,
     "metadata": {},
     "output_type": "execute_result"
    }
   ],
   "source": [
    "param"
   ]
  },
  {
   "cell_type": "code",
   "execution_count": 29,
   "metadata": {
    "id": "t3Vm5jIIG_jd"
   },
   "outputs": [],
   "source": []
  }
 ],
 "metadata": {
  "accelerator": "GPU",
  "colab": {
   "gpuType": "T4",
   "provenance": []
  },
  "kernelspec": {
   "display_name": "Python 3 (ipykernel)",
   "language": "python",
   "name": "python3"
  },
  "language_info": {
   "codemirror_mode": {
    "name": "ipython",
    "version": 3
   },
   "file_extension": ".py",
   "mimetype": "text/x-python",
   "name": "python",
   "nbconvert_exporter": "python",
   "pygments_lexer": "ipython3",
   "version": "3.10.9"
  }
 },
 "nbformat": 4,
 "nbformat_minor": 1
}
